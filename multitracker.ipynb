{
 "cells": [
  {
   "cell_type": "markdown",
   "id": "55fd0def-01d3-48aa-b45d-41414bc12270",
   "metadata": {
    "tags": []
   },
   "source": [
    "# Setup\n",
    "Import libraries for use with this notebook environment, you do not need these libraries when you write your application code."
   ]
  },
  {
   "cell_type": "code",
   "execution_count": 5,
   "id": "8f9cfa7b-67dd-437f-b0c2-253d959f04ef",
   "metadata": {},
   "outputs": [],
   "source": [
    "import sys\n",
    "import os\n",
    "import boto3\n"
   ]
  },
  {
   "cell_type": "markdown",
   "id": "9c8bd934-e962-4249-98c1-d05bd612627b",
   "metadata": {},
   "source": [
    "# Input parameters\n",
    "Global constants that help the notebook create Panorama resources on your behalf."
   ]
  },
  {
   "cell_type": "code",
   "execution_count": 6,
   "id": "aa216599-8ffe-4ebe-8cc8-8328b3b40cec",
   "metadata": {},
   "outputs": [
    {
     "name": "stdin",
     "output_type": "stream",
     "text": [
      "DEVICE_ID (format: device-*) device-1\n",
      "S3_BUCKET eric-panorama-807496703385\n",
      "AWS_REGION (e.g. us-east-1) us-east-1\n",
      "Application ROLE ARN arn:aws:iam::807496703385:role/test-multitracker\n"
     ]
    }
   ],
   "source": [
    "# Device ID, should look like: device-oc66nax4cgzwhyuaeyifrqowue\n",
    "DEVICE_ID = input( 'DEVICE_ID (format: device-*)' ).strip()\n",
    "\n",
    "# Enter your S3 bucket info here\n",
    "S3_BUCKET = input( 'S3_BUCKET' ).strip()\n",
    "\n",
    "# Enter your desired AWS Panorama region\n",
    "AWS_REGION = input( 'AWS_REGION (e.g. us-east-1)' ).strip()\n",
    "\n",
    "# Enter application role to be deployed in panorama device (S3 and kinesis firehose required, secretsmanager and kinesis video are optional if want remote view)\n",
    "APPLICATION_ROLE = input( 'Application ROLE ARN' ).strip()\n",
    "\n",
    "# Model name\n",
    "ML_MODEL_FNAME = 'yolov5m'"
   ]
  },
  {
   "cell_type": "code",
   "execution_count": 19,
   "id": "f53f33a3-98b6-490e-8e04-7d7218a92aa6",
   "metadata": {},
   "outputs": [],
   "source": [
    "model_package_name = 'YOLOV5M'\n",
    "model_data_shape = '{\"input0\":[1,3,640,640]}'\n",
    "\n",
    "# application name\n",
    "app_name = 'multitracker'\n",
    "\n",
    "## package names and node names\n",
    "code_package_name = 'multitracker_app'\n",
    "camera_node_name = 'abstract_rtsp_media_source'\n",
    "\n",
    "container_asset_name = 'code_asset'\n",
    "\n",
    "# model node name, raw model path (without platform dependent suffics), and input data shape\n",
    "model_node_name = \"multitracker_model\"\n",
    "model_file_basename = \"./models/\" + ML_MODEL_FNAME\n",
    "\n",
    "# video file path to simulate camera stream\n",
    "# videoname = '../common/test_utility/videos/TownCentreXVID.avi'\n",
    "\n",
    "sys.path.insert( 0, os.path.abspath( \"./test_utility\" ) )\n",
    "import panorama_test_utility\n",
    "\n",
    "# instantiate boto3 clients\n",
    "s3_client = boto3.client('s3')\n",
    "panorama_client = boto3.client('panorama', region_name=AWS_REGION)\n",
    "\n",
    "# AWS account ID\n",
    "account_id = boto3.client(\"sts\").get_caller_identity()[\"Account\"]"
   ]
  },
  {
   "cell_type": "markdown",
   "id": "663e14fb-64ad-44a9-bb07-810f6f770f78",
   "metadata": {},
   "source": [
    "# Set up application\n",
    "Every application uses the creator's AWS Account ID as the prefix to uniquely identifies the application resources. Running panorama-cli import-application replaces the generic account Id with your account Id."
   ]
  },
  {
   "cell_type": "code",
   "execution_count": 20,
   "id": "11b704a7-d4fb-43de-8f15-fc096e869c13",
   "metadata": {},
   "outputs": [
    {
     "name": "stdout",
     "output_type": "stream",
     "text": [
      "Sucessfully imported application\n"
     ]
    }
   ],
   "source": [
    "!cd ./{app_name} && panorama-cli import-application"
   ]
  },
  {
   "cell_type": "markdown",
   "id": "7d8eca74-7fce-4eb2-818d-599a54d9803c",
   "metadata": {},
   "source": [
    "# Import model"
   ]
  },
  {
   "cell_type": "markdown",
   "id": "f9114a1b-40aa-44da-bfda-11343d072e26",
   "metadata": {},
   "source": [
    "Compress .pt model file to .tar.gz"
   ]
  },
  {
   "cell_type": "code",
   "execution_count": 21,
   "id": "5493b940-84fe-4c37-97ea-cf73db13b764",
   "metadata": {},
   "outputs": [
    {
     "name": "stdout",
     "output_type": "stream",
     "text": [
      "./models/yolov5m.pt\n"
     ]
    }
   ],
   "source": [
    "!tar -zcvf {model_file_basename}.tar.gz {model_file_basename}.pt"
   ]
  },
  {
   "cell_type": "code",
   "execution_count": 22,
   "id": "15d2c7a5-77ae-4797-beb5-3f5787144ff5",
   "metadata": {},
   "outputs": [
    {
     "name": "stdout",
     "output_type": "stream",
     "text": [
      "upload: models/yolov5m.tar.gz to s3://eric-panorama-807496703385/multitracker/yolov5m.tar.gz\n"
     ]
    }
   ],
   "source": [
    "!aws s3 cp {model_file_basename}.tar.gz s3://{S3_BUCKET}/{app_name}/"
   ]
  },
  {
   "cell_type": "markdown",
   "id": "9bbd0354-c996-488f-8daa-08f12e19037c",
   "metadata": {},
   "source": [
    "## Prepare model for testing with notebook server"
   ]
  },
  {
   "cell_type": "code",
   "execution_count": 25,
   "id": "e3a2fe01-2093-4cc3-a07e-5e040d18d894",
   "metadata": {},
   "outputs": [
    {
     "name": "stdout",
     "output_type": "stream",
     "text": [
      "Checking [multitracker_model]\n",
      "Compiled model file [./models/multitracker_model/yolov5m-LINUX_ARM64.tar.gz] doesn't exist. Need compilation.\n",
      "Uploading [yolov5m.tar.gz] to [s3://eric-panorama-807496703385/multitracker/multitracker_model] ...\n",
      "Compiling [yolov5m.tar.gz] ...\n",
      "Created compilation job [Comp-Job20230524125222PM]\n",
      "Compilation job status : STARTING ...\n",
      "Compilation job status : INPROGRESS ..\n",
      "Compilation job status : FAILED "
     ]
    },
    {
     "ename": "RuntimeError",
     "evalue": "Model compilation failed \nClientError: InputConfiguration: Framework cannot load PyTorch model. No module named 'models'  For further troubleshooting common failures please visit: https://docs.aws.amazon.com/sagemaker/latest/dg/neo-troubleshooting-compilation.html",
     "output_type": "error",
     "traceback": [
      "\u001b[0;31m---------------------------------------------------------------------------\u001b[0m",
      "\u001b[0;31mRuntimeError\u001b[0m                              Traceback (most recent call last)",
      "\u001b[0;32m~/dev/test_multitracker/test_utility/panorama_test_utility_compile.py\u001b[0m in \u001b[0;36m<module>\u001b[0;34m\u001b[0m\n\u001b[1;32m     79\u001b[0m         \u001b[0mcompile_model_as_needed\u001b[0m\u001b[0;34m(\u001b[0m \u001b[0mmodel_node_name\u001b[0m\u001b[0;34m,\u001b[0m \u001b[0mmodel_file_basename\u001b[0m\u001b[0;34m,\u001b[0m \u001b[0mmodel_data_shape\u001b[0m\u001b[0;34m,\u001b[0m \u001b[0mmodel_framework\u001b[0m \u001b[0;34m)\u001b[0m\u001b[0;34m\u001b[0m\u001b[0;34m\u001b[0m\u001b[0m\n\u001b[1;32m     80\u001b[0m \u001b[0;34m\u001b[0m\u001b[0m\n\u001b[0;32m---> 81\u001b[0;31m \u001b[0mtest_utility_compile_main\u001b[0m\u001b[0;34m(\u001b[0m\u001b[0;34m)\u001b[0m\u001b[0;34m\u001b[0m\u001b[0;34m\u001b[0m\u001b[0m\n\u001b[0m\u001b[1;32m     82\u001b[0m \u001b[0;34m\u001b[0m\u001b[0m\n",
      "\u001b[0;32m~/dev/test_multitracker/test_utility/panorama_test_utility_compile.py\u001b[0m in \u001b[0;36mtest_utility_compile_main\u001b[0;34m()\u001b[0m\n\u001b[1;32m     77\u001b[0m     \u001b[0;31m# TODO : parallelize\u001b[0m\u001b[0;34m\u001b[0m\u001b[0;34m\u001b[0m\u001b[0;34m\u001b[0m\u001b[0m\n\u001b[1;32m     78\u001b[0m     \u001b[0;32mfor\u001b[0m \u001b[0mmodel_node_name\u001b[0m\u001b[0;34m,\u001b[0m \u001b[0mmodel_file_basename\u001b[0m\u001b[0;34m,\u001b[0m \u001b[0mmodel_data_shape\u001b[0m\u001b[0;34m,\u001b[0m \u001b[0mmodel_framework\u001b[0m \u001b[0;32min\u001b[0m \u001b[0mzip\u001b[0m\u001b[0;34m(\u001b[0m \u001b[0margs\u001b[0m\u001b[0;34m.\u001b[0m\u001b[0mmodel_node_names\u001b[0m\u001b[0;34m,\u001b[0m \u001b[0margs\u001b[0m\u001b[0;34m.\u001b[0m\u001b[0mmodel_file_basenames\u001b[0m\u001b[0;34m,\u001b[0m \u001b[0margs\u001b[0m\u001b[0;34m.\u001b[0m\u001b[0mmodel_data_shapes\u001b[0m\u001b[0;34m,\u001b[0m \u001b[0margs\u001b[0m\u001b[0;34m.\u001b[0m\u001b[0mmodel_frameworks\u001b[0m \u001b[0;34m)\u001b[0m\u001b[0;34m:\u001b[0m\u001b[0;34m\u001b[0m\u001b[0;34m\u001b[0m\u001b[0m\n\u001b[0;32m---> 79\u001b[0;31m         \u001b[0mcompile_model_as_needed\u001b[0m\u001b[0;34m(\u001b[0m \u001b[0mmodel_node_name\u001b[0m\u001b[0;34m,\u001b[0m \u001b[0mmodel_file_basename\u001b[0m\u001b[0;34m,\u001b[0m \u001b[0mmodel_data_shape\u001b[0m\u001b[0;34m,\u001b[0m \u001b[0mmodel_framework\u001b[0m \u001b[0;34m)\u001b[0m\u001b[0;34m\u001b[0m\u001b[0;34m\u001b[0m\u001b[0m\n\u001b[0m\u001b[1;32m     80\u001b[0m \u001b[0;34m\u001b[0m\u001b[0m\n\u001b[1;32m     81\u001b[0m \u001b[0mtest_utility_compile_main\u001b[0m\u001b[0;34m(\u001b[0m\u001b[0;34m)\u001b[0m\u001b[0;34m\u001b[0m\u001b[0;34m\u001b[0m\u001b[0m\n",
      "\u001b[0;32m~/dev/test_multitracker/test_utility/panorama_test_utility_compile.py\u001b[0m in \u001b[0;36mcompile_model_as_needed\u001b[0;34m(model_node_name, model_file_basename, model_data_shape, model_framework)\u001b[0m\n\u001b[1;32m     70\u001b[0m                 \u001b[0moutput_model_dir\u001b[0m \u001b[0;34m=\u001b[0m \u001b[0mcompiled_model_dir\u001b[0m\u001b[0;34m,\u001b[0m\u001b[0;34m\u001b[0m\u001b[0;34m\u001b[0m\u001b[0m\n\u001b[1;32m     71\u001b[0m                 \u001b[0ms3_model_location\u001b[0m \u001b[0;34m=\u001b[0m \u001b[0margs\u001b[0m\u001b[0;34m.\u001b[0m\u001b[0ms3_model_location\u001b[0m \u001b[0;34m+\u001b[0m \u001b[0;34m\"/\"\u001b[0m \u001b[0;34m+\u001b[0m \u001b[0mmodel_node_name\u001b[0m\u001b[0;34m,\u001b[0m\u001b[0;34m\u001b[0m\u001b[0;34m\u001b[0m\u001b[0m\n\u001b[0;32m---> 72\u001b[0;31m                 \u001b[0mcompile_job_role\u001b[0m \u001b[0;34m=\u001b[0m \u001b[0mpanorama_test_utility\u001b[0m\u001b[0;34m.\u001b[0m\u001b[0mresolve_sm_role\u001b[0m\u001b[0;34m(\u001b[0m\u001b[0;34m)\u001b[0m\u001b[0;34m,\u001b[0m\u001b[0;34m\u001b[0m\u001b[0;34m\u001b[0m\u001b[0m\n\u001b[0m\u001b[1;32m     73\u001b[0m             )\n\u001b[1;32m     74\u001b[0m \u001b[0;34m\u001b[0m\u001b[0m\n",
      "\u001b[0;32m~/dev/test_multitracker/test_utility/panorama_test_utility.py\u001b[0m in \u001b[0;36mprepare_model_for_test\u001b[0;34m(region, data_shape, framework, input_model_filepath, output_model_dir, s3_model_location, compile_job_role)\u001b[0m\n\u001b[1;32m    398\u001b[0m         \u001b[0mtarget_platform\u001b[0m \u001b[0;34m=\u001b[0m \u001b[0m_c\u001b[0m\u001b[0;34m.\u001b[0m\u001b[0mneo_target_platform\u001b[0m\u001b[0;34m,\u001b[0m\u001b[0;34m\u001b[0m\u001b[0;34m\u001b[0m\u001b[0m\n\u001b[1;32m    399\u001b[0m         \u001b[0ms3_output_location\u001b[0m \u001b[0;34m=\u001b[0m \u001b[0;34mf\"s3://{s3_bucket}/{s3_prefix}/\"\u001b[0m\u001b[0;34m,\u001b[0m\u001b[0;34m\u001b[0m\u001b[0;34m\u001b[0m\u001b[0m\n\u001b[0;32m--> 400\u001b[0;31m         \u001b[0mcompile_job_role\u001b[0m \u001b[0;34m=\u001b[0m \u001b[0mcompile_job_role\u001b[0m\u001b[0;34m\u001b[0m\u001b[0;34m\u001b[0m\u001b[0m\n\u001b[0m\u001b[1;32m    401\u001b[0m     )\n\u001b[1;32m    402\u001b[0m \u001b[0;34m\u001b[0m\u001b[0m\n",
      "\u001b[0;32m~/dev/test_multitracker/test_utility/panorama_test_utility.py\u001b[0m in \u001b[0;36mcompile_model\u001b[0;34m(region, s3_model_location, data_shape, framework, target_device, target_platform, s3_output_location, compile_job_role)\u001b[0m\n\u001b[1;32m    346\u001b[0m             \u001b[0mfailure_reason\u001b[0m \u001b[0;34m=\u001b[0m \u001b[0mfailure_reason\u001b[0m\u001b[0;34m.\u001b[0m\u001b[0mreplace\u001b[0m\u001b[0;34m(\u001b[0m \u001b[0;34m\"\\\\n\"\u001b[0m\u001b[0;34m,\u001b[0m \u001b[0;34m\"\\n\"\u001b[0m \u001b[0;34m)\u001b[0m\u001b[0;34m\u001b[0m\u001b[0;34m\u001b[0m\u001b[0m\n\u001b[1;32m    347\u001b[0m             \u001b[0mfailure_reason\u001b[0m \u001b[0;34m=\u001b[0m \u001b[0mfailure_reason\u001b[0m\u001b[0;34m.\u001b[0m\u001b[0mreplace\u001b[0m\u001b[0;34m(\u001b[0m \u001b[0;34m\"\\\\'\"\u001b[0m\u001b[0;34m,\u001b[0m \u001b[0;34m\"'\"\u001b[0m \u001b[0;34m)\u001b[0m\u001b[0;34m\u001b[0m\u001b[0;34m\u001b[0m\u001b[0m\n\u001b[0;32m--> 348\u001b[0;31m             \u001b[0;32mraise\u001b[0m \u001b[0mRuntimeError\u001b[0m\u001b[0;34m(\u001b[0m \u001b[0;34m'Model compilation failed \\n'\u001b[0m \u001b[0;34m+\u001b[0m \u001b[0mfailure_reason\u001b[0m \u001b[0;34m)\u001b[0m\u001b[0;34m\u001b[0m\u001b[0;34m\u001b[0m\u001b[0m\n\u001b[0m\u001b[1;32m    349\u001b[0m \u001b[0;34m\u001b[0m\u001b[0m\n\u001b[1;32m    350\u001b[0m         \u001b[0mtime\u001b[0m\u001b[0;34m.\u001b[0m\u001b[0msleep\u001b[0m\u001b[0;34m(\u001b[0m\u001b[0;36m30\u001b[0m\u001b[0;34m)\u001b[0m\u001b[0;34m\u001b[0m\u001b[0;34m\u001b[0m\u001b[0m\n",
      "\u001b[0;31mRuntimeError\u001b[0m: Model compilation failed \nClientError: InputConfiguration: Framework cannot load PyTorch model. No module named 'models'  For further troubleshooting common failures please visit: https://docs.aws.amazon.com/sagemaker/latest/dg/neo-troubleshooting-compilation.html"
     ]
    }
   ],
   "source": [
    "# Compile the model to run with test-utility.\n",
    "# This step takes 7 mins ~ 10 mins.\n",
    "%run ./test_utility/panorama_test_utility_compile.py \\\n",
    "\\\n",
    "--s3-model-location s3://{S3_BUCKET}/{app_name}/ \\\n",
    "\\\n",
    "--model-node-name {model_node_name} \\\n",
    "--model-file-basename ./models/{ML_MODEL_FNAME} \\\n",
    "--model-data-shape '{model_data_shape}' \\\n",
    "--model-framework pytorch"
   ]
  },
  {
   "cell_type": "markdown",
   "id": "1deda51d-a6cc-4ba8-8289-9365d977272b",
   "metadata": {},
   "source": [
    "## Prepare model for deploying to Panorama device"
   ]
  },
  {
   "cell_type": "code",
   "execution_count": null,
   "id": "e683f2e5-640d-48ee-ad9c-ec37fb0894a5",
   "metadata": {},
   "outputs": [],
   "source": []
  }
 ],
 "metadata": {
  "kernelspec": {
   "display_name": "Python 3",
   "language": "python",
   "name": "python3"
  },
  "language_info": {
   "codemirror_mode": {
    "name": "ipython",
    "version": 3
   },
   "file_extension": ".py",
   "mimetype": "text/x-python",
   "name": "python",
   "nbconvert_exporter": "python",
   "pygments_lexer": "ipython3",
   "version": "3.6.9"
  }
 },
 "nbformat": 4,
 "nbformat_minor": 5
}
